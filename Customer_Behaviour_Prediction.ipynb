{
  "cells": [
    {
      "cell_type": "code",
      "execution_count": null,
      "metadata": {
        "colab": {
          "base_uri": "https://localhost:8080/"
        },
        "id": "vjwvQIaZlv0H",
        "outputId": "e29e6650-5807-47ee-fb5f-23fda1ea1542"
      },
      "outputs": [
        {
          "output_type": "stream",
          "name": "stdout",
          "text": [
            "Requirement already satisfied: numpy in /usr/local/lib/python3.10/dist-packages (1.26.4)\n",
            "Requirement already satisfied: pandas in /usr/local/lib/python3.10/dist-packages (2.1.4)\n",
            "Requirement already satisfied: matplotlib in /usr/local/lib/python3.10/dist-packages (3.7.1)\n",
            "Requirement already satisfied: seaborn in /usr/local/lib/python3.10/dist-packages (0.13.1)\n",
            "Requirement already satisfied: tensorflow in /usr/local/lib/python3.10/dist-packages (2.17.0)\n",
            "Requirement already satisfied: scikit-learn in /usr/local/lib/python3.10/dist-packages (1.3.2)\n",
            "Requirement already satisfied: xgboost in /usr/local/lib/python3.10/dist-packages (2.1.1)\n",
            "Requirement already satisfied: python-dateutil>=2.8.2 in /usr/local/lib/python3.10/dist-packages (from pandas) (2.8.2)\n",
            "Requirement already satisfied: pytz>=2020.1 in /usr/local/lib/python3.10/dist-packages (from pandas) (2024.1)\n",
            "Requirement already satisfied: tzdata>=2022.1 in /usr/local/lib/python3.10/dist-packages (from pandas) (2024.1)\n",
            "Requirement already satisfied: contourpy>=1.0.1 in /usr/local/lib/python3.10/dist-packages (from matplotlib) (1.2.1)\n",
            "Requirement already satisfied: cycler>=0.10 in /usr/local/lib/python3.10/dist-packages (from matplotlib) (0.12.1)\n",
            "Requirement already satisfied: fonttools>=4.22.0 in /usr/local/lib/python3.10/dist-packages (from matplotlib) (4.53.1)\n",
            "Requirement already satisfied: kiwisolver>=1.0.1 in /usr/local/lib/python3.10/dist-packages (from matplotlib) (1.4.5)\n",
            "Requirement already satisfied: packaging>=20.0 in /usr/local/lib/python3.10/dist-packages (from matplotlib) (24.1)\n",
            "Requirement already satisfied: pillow>=6.2.0 in /usr/local/lib/python3.10/dist-packages (from matplotlib) (9.4.0)\n",
            "Requirement already satisfied: pyparsing>=2.3.1 in /usr/local/lib/python3.10/dist-packages (from matplotlib) (3.1.4)\n",
            "Requirement already satisfied: absl-py>=1.0.0 in /usr/local/lib/python3.10/dist-packages (from tensorflow) (1.4.0)\n",
            "Requirement already satisfied: astunparse>=1.6.0 in /usr/local/lib/python3.10/dist-packages (from tensorflow) (1.6.3)\n",
            "Requirement already satisfied: flatbuffers>=24.3.25 in /usr/local/lib/python3.10/dist-packages (from tensorflow) (24.3.25)\n",
            "Requirement already satisfied: gast!=0.5.0,!=0.5.1,!=0.5.2,>=0.2.1 in /usr/local/lib/python3.10/dist-packages (from tensorflow) (0.6.0)\n",
            "Requirement already satisfied: google-pasta>=0.1.1 in /usr/local/lib/python3.10/dist-packages (from tensorflow) (0.2.0)\n",
            "Requirement already satisfied: h5py>=3.10.0 in /usr/local/lib/python3.10/dist-packages (from tensorflow) (3.11.0)\n",
            "Requirement already satisfied: libclang>=13.0.0 in /usr/local/lib/python3.10/dist-packages (from tensorflow) (18.1.1)\n",
            "Requirement already satisfied: ml-dtypes<0.5.0,>=0.3.1 in /usr/local/lib/python3.10/dist-packages (from tensorflow) (0.4.0)\n",
            "Requirement already satisfied: opt-einsum>=2.3.2 in /usr/local/lib/python3.10/dist-packages (from tensorflow) (3.3.0)\n",
            "Requirement already satisfied: protobuf!=4.21.0,!=4.21.1,!=4.21.2,!=4.21.3,!=4.21.4,!=4.21.5,<5.0.0dev,>=3.20.3 in /usr/local/lib/python3.10/dist-packages (from tensorflow) (3.20.3)\n",
            "Requirement already satisfied: requests<3,>=2.21.0 in /usr/local/lib/python3.10/dist-packages (from tensorflow) (2.32.3)\n",
            "Requirement already satisfied: setuptools in /usr/local/lib/python3.10/dist-packages (from tensorflow) (71.0.4)\n",
            "Requirement already satisfied: six>=1.12.0 in /usr/local/lib/python3.10/dist-packages (from tensorflow) (1.16.0)\n",
            "Requirement already satisfied: termcolor>=1.1.0 in /usr/local/lib/python3.10/dist-packages (from tensorflow) (2.4.0)\n",
            "Requirement already satisfied: typing-extensions>=3.6.6 in /usr/local/lib/python3.10/dist-packages (from tensorflow) (4.12.2)\n",
            "Requirement already satisfied: wrapt>=1.11.0 in /usr/local/lib/python3.10/dist-packages (from tensorflow) (1.16.0)\n",
            "Requirement already satisfied: grpcio<2.0,>=1.24.3 in /usr/local/lib/python3.10/dist-packages (from tensorflow) (1.64.1)\n",
            "Requirement already satisfied: tensorboard<2.18,>=2.17 in /usr/local/lib/python3.10/dist-packages (from tensorflow) (2.17.0)\n",
            "Requirement already satisfied: keras>=3.2.0 in /usr/local/lib/python3.10/dist-packages (from tensorflow) (3.4.1)\n",
            "Requirement already satisfied: tensorflow-io-gcs-filesystem>=0.23.1 in /usr/local/lib/python3.10/dist-packages (from tensorflow) (0.37.1)\n",
            "Requirement already satisfied: scipy>=1.5.0 in /usr/local/lib/python3.10/dist-packages (from scikit-learn) (1.13.1)\n",
            "Requirement already satisfied: joblib>=1.1.1 in /usr/local/lib/python3.10/dist-packages (from scikit-learn) (1.4.2)\n",
            "Requirement already satisfied: threadpoolctl>=2.0.0 in /usr/local/lib/python3.10/dist-packages (from scikit-learn) (3.5.0)\n",
            "Requirement already satisfied: nvidia-nccl-cu12 in /usr/local/lib/python3.10/dist-packages (from xgboost) (2.22.3)\n",
            "Requirement already satisfied: wheel<1.0,>=0.23.0 in /usr/local/lib/python3.10/dist-packages (from astunparse>=1.6.0->tensorflow) (0.44.0)\n",
            "Requirement already satisfied: rich in /usr/local/lib/python3.10/dist-packages (from keras>=3.2.0->tensorflow) (13.8.0)\n",
            "Requirement already satisfied: namex in /usr/local/lib/python3.10/dist-packages (from keras>=3.2.0->tensorflow) (0.0.8)\n",
            "Requirement already satisfied: optree in /usr/local/lib/python3.10/dist-packages (from keras>=3.2.0->tensorflow) (0.12.1)\n",
            "Requirement already satisfied: charset-normalizer<4,>=2 in /usr/local/lib/python3.10/dist-packages (from requests<3,>=2.21.0->tensorflow) (3.3.2)\n",
            "Requirement already satisfied: idna<4,>=2.5 in /usr/local/lib/python3.10/dist-packages (from requests<3,>=2.21.0->tensorflow) (3.8)\n",
            "Requirement already satisfied: urllib3<3,>=1.21.1 in /usr/local/lib/python3.10/dist-packages (from requests<3,>=2.21.0->tensorflow) (2.0.7)\n",
            "Requirement already satisfied: certifi>=2017.4.17 in /usr/local/lib/python3.10/dist-packages (from requests<3,>=2.21.0->tensorflow) (2024.7.4)\n",
            "Requirement already satisfied: markdown>=2.6.8 in /usr/local/lib/python3.10/dist-packages (from tensorboard<2.18,>=2.17->tensorflow) (3.7)\n",
            "Requirement already satisfied: tensorboard-data-server<0.8.0,>=0.7.0 in /usr/local/lib/python3.10/dist-packages (from tensorboard<2.18,>=2.17->tensorflow) (0.7.2)\n",
            "Requirement already satisfied: werkzeug>=1.0.1 in /usr/local/lib/python3.10/dist-packages (from tensorboard<2.18,>=2.17->tensorflow) (3.0.4)\n",
            "Requirement already satisfied: MarkupSafe>=2.1.1 in /usr/local/lib/python3.10/dist-packages (from werkzeug>=1.0.1->tensorboard<2.18,>=2.17->tensorflow) (2.1.5)\n",
            "Requirement already satisfied: markdown-it-py>=2.2.0 in /usr/local/lib/python3.10/dist-packages (from rich->keras>=3.2.0->tensorflow) (3.0.0)\n",
            "Requirement already satisfied: pygments<3.0.0,>=2.13.0 in /usr/local/lib/python3.10/dist-packages (from rich->keras>=3.2.0->tensorflow) (2.16.1)\n",
            "Requirement already satisfied: mdurl~=0.1 in /usr/local/lib/python3.10/dist-packages (from markdown-it-py>=2.2.0->rich->keras>=3.2.0->tensorflow) (0.1.2)\n"
          ]
        }
      ],
      "source": [
        "!pip install numpy pandas matplotlib seaborn tensorflow scikit-learn xgboost\n"
      ]
    },
    {
      "cell_type": "code",
      "execution_count": null,
      "metadata": {
        "id": "wPmqKWdglwnf"
      },
      "outputs": [],
      "source": [
        "import numpy as np\n",
        "import pandas as pd\n",
        "import matplotlib.pyplot as plt\n",
        "import seaborn as sns\n",
        "from sklearn.model_selection import train_test_split\n",
        "from sklearn.preprocessing import StandardScaler, LabelEncoder\n",
        "from sklearn.metrics import accuracy_score, classification_report\n",
        "import tensorflow as tf\n",
        "from tensorflow.keras.models import Sequential\n",
        "from tensorflow.keras.layers import LSTM, Dense, Dropout\n",
        "import xgboost as xgb\n"
      ]
    },
    {
      "cell_type": "code",
      "execution_count": null,
      "metadata": {
        "id": "3lR8ee4Nl-rb"
      },
      "outputs": [],
      "source": [
        "# Loading the dataset\n",
        "data_path = '/content/online_retail_II.xlsx'\n",
        "data = pd.read_excel(data_path)\n",
        "data=data[:30000]\n",
        "\n",
        "\n"
      ]
    },
    {
      "cell_type": "code",
      "execution_count": null,
      "metadata": {
        "colab": {
          "base_uri": "https://localhost:8080/"
        },
        "id": "Hq-kHFVrovTp",
        "outputId": "6a186ed8-4ec7-4205-8887-1948ee997d9a"
      },
      "outputs": [
        {
          "output_type": "stream",
          "name": "stdout",
          "text": [
            "  Invoice StockCode                          Description  Quantity  \\\n",
            "0  489434     85048  15CM CHRISTMAS GLASS BALL 20 LIGHTS        12   \n",
            "1  489434    79323P                   PINK CHERRY LIGHTS        12   \n",
            "2  489434    79323W                  WHITE CHERRY LIGHTS        12   \n",
            "3  489434     22041         RECORD FRAME 7\" SINGLE SIZE         48   \n",
            "4  489434     21232       STRAWBERRY CERAMIC TRINKET BOX        24   \n",
            "\n",
            "          InvoiceDate  Price  Customer ID         Country  \n",
            "0 2009-12-01 07:45:00   6.95      13085.0  United Kingdom  \n",
            "1 2009-12-01 07:45:00   6.75      13085.0  United Kingdom  \n",
            "2 2009-12-01 07:45:00   6.75      13085.0  United Kingdom  \n",
            "3 2009-12-01 07:45:00   2.10      13085.0  United Kingdom  \n",
            "4 2009-12-01 07:45:00   1.25      13085.0  United Kingdom  \n",
            "<class 'pandas.core.frame.DataFrame'>\n",
            "RangeIndex: 30000 entries, 0 to 29999\n",
            "Data columns (total 8 columns):\n",
            " #   Column       Non-Null Count  Dtype         \n",
            "---  ------       --------------  -----         \n",
            " 0   Invoice      30000 non-null  object        \n",
            " 1   StockCode    30000 non-null  object        \n",
            " 2   Description  29946 non-null  object        \n",
            " 3   Quantity     30000 non-null  int64         \n",
            " 4   InvoiceDate  30000 non-null  datetime64[ns]\n",
            " 5   Price        30000 non-null  float64       \n",
            " 6   Customer ID  23709 non-null  float64       \n",
            " 7   Country      30000 non-null  object        \n",
            "dtypes: datetime64[ns](1), float64(2), int64(1), object(4)\n",
            "memory usage: 1.8+ MB\n",
            "None\n",
            "           Quantity                    InvoiceDate         Price   Customer ID\n",
            "count  30000.000000                          30000  30000.000000  23709.000000\n",
            "mean       9.612567  2009-12-07 03:40:21.742000128      3.975514  15467.911932\n",
            "min    -1395.000000            2009-12-01 07:45:00      0.000000  12346.000000\n",
            "25%        1.000000            2009-12-03 13:09:00      1.250000  14087.000000\n",
            "50%        3.000000            2009-12-07 12:26:00      2.550000  15542.000000\n",
            "75%        8.000000            2009-12-10 09:49:00      4.300000  16905.000000\n",
            "max     5184.000000            2009-12-14 17:16:00   1998.490000  18287.000000\n",
            "std       65.591075                            NaN     19.717509   1657.207588\n"
          ]
        }
      ],
      "source": [
        "print(data.head())\n",
        "print(data.info())\n",
        "print(data.describe())\n"
      ]
    },
    {
      "cell_type": "markdown",
      "metadata": {
        "id": "A1V0yDkWDOTd"
      },
      "source": []
    },
    {
      "cell_type": "code",
      "source": [
        "\n",
        "num_unique_stock_codes = data['StockCode'].nunique()\n",
        "print(f\"Number of unique StockCodes: {num_unique_stock_codes}\")\n"
      ],
      "metadata": {
        "colab": {
          "base_uri": "https://localhost:8080/"
        },
        "id": "ja8OOd22T49l",
        "outputId": "044ed971-14a3-4d9e-cd62-7d376d1eb9b7"
      },
      "execution_count": null,
      "outputs": [
        {
          "output_type": "stream",
          "name": "stdout",
          "text": [
            "Number of unique StockCodes: 2550\n"
          ]
        }
      ]
    },
    {
      "cell_type": "code",
      "execution_count": null,
      "metadata": {
        "id": "qaGFUfurpQjl"
      },
      "outputs": [],
      "source": [
        "data.dropna(subset=['Customer ID'], inplace=True)\n"
      ]
    },
    {
      "cell_type": "code",
      "execution_count": null,
      "metadata": {
        "colab": {
          "base_uri": "https://localhost:8080/"
        },
        "id": "L8zT72CAzO75",
        "outputId": "4ed44f81-de82-4a46-f926-874db8a27e79"
      },
      "outputs": [
        {
          "output_type": "stream",
          "name": "stdout",
          "text": [
            "Invoice        0\n",
            "StockCode      0\n",
            "Description    0\n",
            "Quantity       0\n",
            "InvoiceDate    0\n",
            "Price          0\n",
            "Customer ID    0\n",
            "Country        0\n",
            "dtype: int64\n"
          ]
        }
      ],
      "source": [
        "print(data.isnull().sum())\n"
      ]
    },
    {
      "cell_type": "code",
      "execution_count": null,
      "metadata": {
        "id": "KDU4DOKdpTze"
      },
      "outputs": [],
      "source": [
        "data = data.drop_duplicates()\n",
        "data = data[data['Quantity'] > 0]\n",
        "\n"
      ]
    },
    {
      "cell_type": "code",
      "execution_count": null,
      "metadata": {
        "id": "priOCPJvpfGL"
      },
      "outputs": [],
      "source": [
        "data['TotalPrice'] = data['Quantity'] * data['Price']\n"
      ]
    },
    {
      "cell_type": "code",
      "execution_count": null,
      "metadata": {
        "id": "vkzb12l0piXi"
      },
      "outputs": [],
      "source": [
        "data['InvoiceDate'] = pd.to_datetime(data['InvoiceDate'])\n",
        "\n"
      ]
    },
    {
      "cell_type": "code",
      "execution_count": null,
      "metadata": {
        "id": "h8d-FmqOznkY"
      },
      "outputs": [],
      "source": [
        "customer_data = data.groupby('Customer ID').agg({'TotalPrice': 'sum', 'InvoiceDate': 'max'}).reset_index()\n"
      ]
    },
    {
      "cell_type": "code",
      "execution_count": null,
      "metadata": {
        "id": "H3SqsB6gqgSq"
      },
      "outputs": [],
      "source": [
        "data['StockCode'] = data['StockCode'].astype(str)\n"
      ]
    },
    {
      "cell_type": "code",
      "execution_count": null,
      "metadata": {
        "id": "8usd-bGOpvPZ"
      },
      "outputs": [],
      "source": [
        "le_stock = LabelEncoder()\n",
        "data['StockCode'] = le_stock.fit_transform(data['StockCode'])\n",
        "\n",
        "le_customer = LabelEncoder()\n",
        "data['Customer ID'] = le_customer.fit_transform(data['Customer ID'])\n"
      ]
    },
    {
      "cell_type": "code",
      "execution_count": null,
      "metadata": {
        "id": "oN-jofRfpy22"
      },
      "outputs": [],
      "source": [
        "data.sort_values(['Customer ID', 'InvoiceDate'], inplace=True)\n"
      ]
    },
    {
      "cell_type": "code",
      "execution_count": null,
      "metadata": {
        "id": "dtJCAK22q3wQ"
      },
      "outputs": [],
      "source": [
        "def create_sequences(data, time_steps=5):\n",
        "    X, y = [], []\n",
        "    customer_groups = data.groupby('Customer ID')\n",
        "    for i, group in customer_groups:\n",
        "        group_values = group[['StockCode', 'Quantity', 'TotalPrice']].values\n",
        "        for i in range(len(group_values) - time_steps):\n",
        "            X.append(group_values[i:i + time_steps])\n",
        "            y.append(group['Customer ID'].values[i + time_steps])\n",
        "    return np.array(X), np.array(y)\n",
        "\n",
        "time_steps = 10\n",
        "X, y = create_sequences(data, time_steps)\n"
      ]
    },
    {
      "cell_type": "code",
      "execution_count": null,
      "metadata": {
        "id": "BNDeOH0Zq9-l"
      },
      "outputs": [],
      "source": [
        "X_train, X_test, y_train, y_test = train_test_split(X, y, test_size=0.2, random_state=42)\n"
      ]
    },
    {
      "cell_type": "code",
      "execution_count": null,
      "metadata": {
        "id": "BZNIuB05tVRd"
      },
      "outputs": [],
      "source": [
        "le = LabelEncoder()\n",
        "y_train = le.fit_transform(y_train)\n",
        "\n"
      ]
    },
    {
      "cell_type": "code",
      "execution_count": null,
      "metadata": {
        "id": "AjCoa9witg4J"
      },
      "outputs": [],
      "source": [
        "# Identifying unseen labels in y_test\n",
        "unseen_labels = set(y_test) - set(le.classes_)\n",
        "\n",
        "# Replacing unseen labels with a specific label or drop them\n",
        "y_test = np.array([label if label in le.classes_ else -1 for label in y_test])\n",
        "\n",
        "# Drop samples with unseen labels\n",
        "X_test = X_test[y_test != -1]\n",
        "y_test = y_test[y_test != -1]\n",
        "y_test = le.transform(y_test)\n"
      ]
    },
    {
      "cell_type": "code",
      "execution_count": null,
      "metadata": {
        "id": "8nnHAlWQtCj-"
      },
      "outputs": [],
      "source": [
        "from sklearn.preprocessing import LabelEncoder\n",
        "\n",
        "le = LabelEncoder()\n",
        "y_train = le.fit_transform(y_train)\n",
        "y_test = le.transform(y_test)\n"
      ]
    },
    {
      "cell_type": "code",
      "execution_count": null,
      "metadata": {
        "id": "HG8jqcnlrIvw"
      },
      "outputs": [],
      "source": [
        "from tensorflow.keras.utils import to_categorical\n",
        "\n",
        "# Number of unique classes\n",
        "num_classes = len(np.unique(y_train))\n",
        "\n",
        "# Adjusting the model for multiclass classification\n",
        "model = Sequential()\n",
        "model.add(LSTM(100, return_sequences=True, input_shape=(X_train.shape[1], X_train.shape[2])))\n",
        "model.add(Dropout(0.3))\n",
        "model.add(LSTM(100, return_sequences=False))\n",
        "model.add(Dropout(0.3))\n",
        "model.add(Dense(num_classes, activation='softmax'))  # Changed to softmax for multiclass classification\n",
        "\n",
        "# Compiling the model with categorical crossentropy loss\n",
        "model.compile(optimizer='adam', loss='sparse_categorical_crossentropy', metrics=['accuracy'])\n",
        "\n",
        "\n"
      ]
    },
    {
      "cell_type": "code",
      "source": [
        "print(num_classes)"
      ],
      "metadata": {
        "colab": {
          "base_uri": "https://localhost:8080/"
        },
        "id": "KceiCOA7Tl2n",
        "outputId": "85d1430e-52f4-41c2-9d61-f4226dc33841"
      },
      "execution_count": null,
      "outputs": [
        {
          "output_type": "stream",
          "name": "stdout",
          "text": [
            "561\n"
          ]
        }
      ]
    },
    {
      "cell_type": "code",
      "execution_count": null,
      "metadata": {
        "colab": {
          "base_uri": "https://localhost:8080/"
        },
        "id": "gbLDCY4UrK1G",
        "outputId": "d47ffc5a-e89f-425c-da95-dabebb05f3ab"
      },
      "outputs": [
        {
          "output_type": "stream",
          "name": "stdout",
          "text": [
            "Epoch 1/100\n",
            "\u001b[1m392/392\u001b[0m \u001b[32m━━━━━━━━━━━━━━━━━━━━\u001b[0m\u001b[37m\u001b[0m \u001b[1m8s\u001b[0m 9ms/step - accuracy: 0.0225 - loss: 5.9902 - val_accuracy: 0.0560 - val_loss: 5.3662\n",
            "Epoch 2/100\n",
            "\u001b[1m392/392\u001b[0m \u001b[32m━━━━━━━━━━━━━━━━━━━━\u001b[0m\u001b[37m\u001b[0m \u001b[1m7s\u001b[0m 6ms/step - accuracy: 0.0571 - loss: 5.2549 - val_accuracy: 0.0672 - val_loss: 4.9428\n",
            "Epoch 3/100\n",
            "\u001b[1m392/392\u001b[0m \u001b[32m━━━━━━━━━━━━━━━━━━━━\u001b[0m\u001b[37m\u001b[0m \u001b[1m3s\u001b[0m 7ms/step - accuracy: 0.0749 - loss: 4.8575 - val_accuracy: 0.0758 - val_loss: 4.6797\n",
            "Epoch 4/100\n",
            "\u001b[1m392/392\u001b[0m \u001b[32m━━━━━━━━━━━━━━━━━━━━\u001b[0m\u001b[37m\u001b[0m \u001b[1m5s\u001b[0m 6ms/step - accuracy: 0.0834 - loss: 4.6343 - val_accuracy: 0.0921 - val_loss: 4.4903\n",
            "Epoch 5/100\n",
            "\u001b[1m392/392\u001b[0m \u001b[32m━━━━━━━━━━━━━━━━━━━━\u001b[0m\u001b[37m\u001b[0m \u001b[1m2s\u001b[0m 6ms/step - accuracy: 0.0926 - loss: 4.4828 - val_accuracy: 0.1036 - val_loss: 4.3666\n",
            "Epoch 6/100\n",
            "\u001b[1m392/392\u001b[0m \u001b[32m━━━━━━━━━━━━━━━━━━━━\u001b[0m\u001b[37m\u001b[0m \u001b[1m3s\u001b[0m 6ms/step - accuracy: 0.1070 - loss: 4.3148 - val_accuracy: 0.0991 - val_loss: 4.3059\n",
            "Epoch 7/100\n",
            "\u001b[1m392/392\u001b[0m \u001b[32m━━━━━━━━━━━━━━━━━━━━\u001b[0m\u001b[37m\u001b[0m \u001b[1m3s\u001b[0m 8ms/step - accuracy: 0.1205 - loss: 4.1622 - val_accuracy: 0.1202 - val_loss: 4.1122\n",
            "Epoch 8/100\n",
            "\u001b[1m392/392\u001b[0m \u001b[32m━━━━━━━━━━━━━━━━━━━━\u001b[0m\u001b[37m\u001b[0m \u001b[1m3s\u001b[0m 7ms/step - accuracy: 0.1310 - loss: 4.0432 - val_accuracy: 0.1337 - val_loss: 4.1147\n",
            "Epoch 9/100\n",
            "\u001b[1m392/392\u001b[0m \u001b[32m━━━━━━━━━━━━━━━━━━━━\u001b[0m\u001b[37m\u001b[0m \u001b[1m6s\u001b[0m 10ms/step - accuracy: 0.1404 - loss: 3.9448 - val_accuracy: 0.1455 - val_loss: 3.9171\n",
            "Epoch 10/100\n",
            "\u001b[1m392/392\u001b[0m \u001b[32m━━━━━━━━━━━━━━━━━━━━\u001b[0m\u001b[37m\u001b[0m \u001b[1m5s\u001b[0m 13ms/step - accuracy: 0.1619 - loss: 3.8219 - val_accuracy: 0.1561 - val_loss: 3.8222\n",
            "Epoch 11/100\n",
            "\u001b[1m392/392\u001b[0m \u001b[32m━━━━━━━━━━━━━━━━━━━━\u001b[0m\u001b[37m\u001b[0m \u001b[1m3s\u001b[0m 8ms/step - accuracy: 0.1650 - loss: 3.7647 - val_accuracy: 0.1634 - val_loss: 3.7876\n",
            "Epoch 12/100\n",
            "\u001b[1m392/392\u001b[0m \u001b[32m━━━━━━━━━━━━━━━━━━━━\u001b[0m\u001b[37m\u001b[0m \u001b[1m4s\u001b[0m 6ms/step - accuracy: 0.1814 - loss: 3.6816 - val_accuracy: 0.1784 - val_loss: 3.7082\n",
            "Epoch 13/100\n",
            "\u001b[1m392/392\u001b[0m \u001b[32m━━━━━━━━━━━━━━━━━━━━\u001b[0m\u001b[37m\u001b[0m \u001b[1m3s\u001b[0m 7ms/step - accuracy: 0.1936 - loss: 3.5522 - val_accuracy: 0.1964 - val_loss: 3.5843\n",
            "Epoch 14/100\n",
            "\u001b[1m392/392\u001b[0m \u001b[32m━━━━━━━━━━━━━━━━━━━━\u001b[0m\u001b[37m\u001b[0m \u001b[1m3s\u001b[0m 8ms/step - accuracy: 0.2078 - loss: 3.4876 - val_accuracy: 0.2120 - val_loss: 3.4895\n",
            "Epoch 15/100\n",
            "\u001b[1m392/392\u001b[0m \u001b[32m━━━━━━━━━━━━━━━━━━━━\u001b[0m\u001b[37m\u001b[0m \u001b[1m5s\u001b[0m 6ms/step - accuracy: 0.2164 - loss: 3.4076 - val_accuracy: 0.2012 - val_loss: 3.5664\n",
            "Epoch 16/100\n",
            "\u001b[1m392/392\u001b[0m \u001b[32m━━━━━━━━━━━━━━━━━━━━\u001b[0m\u001b[37m\u001b[0m \u001b[1m2s\u001b[0m 6ms/step - accuracy: 0.2254 - loss: 3.3566 - val_accuracy: 0.2216 - val_loss: 3.4078\n",
            "Epoch 17/100\n",
            "\u001b[1m392/392\u001b[0m \u001b[32m━━━━━━━━━━━━━━━━━━━━\u001b[0m\u001b[37m\u001b[0m \u001b[1m3s\u001b[0m 7ms/step - accuracy: 0.2318 - loss: 3.3121 - val_accuracy: 0.2299 - val_loss: 3.3192\n",
            "Epoch 18/100\n",
            "\u001b[1m392/392\u001b[0m \u001b[32m━━━━━━━━━━━━━━━━━━━━\u001b[0m\u001b[37m\u001b[0m \u001b[1m3s\u001b[0m 7ms/step - accuracy: 0.2469 - loss: 3.2289 - val_accuracy: 0.2450 - val_loss: 3.2399\n",
            "Epoch 19/100\n",
            "\u001b[1m392/392\u001b[0m \u001b[32m━━━━━━━━━━━━━━━━━━━━\u001b[0m\u001b[37m\u001b[0m \u001b[1m2s\u001b[0m 6ms/step - accuracy: 0.2639 - loss: 3.1528 - val_accuracy: 0.2565 - val_loss: 3.1912\n",
            "Epoch 20/100\n",
            "\u001b[1m392/392\u001b[0m \u001b[32m━━━━━━━━━━━━━━━━━━━━\u001b[0m\u001b[37m\u001b[0m \u001b[1m3s\u001b[0m 6ms/step - accuracy: 0.2767 - loss: 3.0857 - val_accuracy: 0.2549 - val_loss: 3.1900\n",
            "Epoch 21/100\n",
            "\u001b[1m392/392\u001b[0m \u001b[32m━━━━━━━━━━━━━━━━━━━━\u001b[0m\u001b[37m\u001b[0m \u001b[1m2s\u001b[0m 6ms/step - accuracy: 0.2873 - loss: 3.0243 - val_accuracy: 0.2670 - val_loss: 3.1086\n",
            "Epoch 22/100\n",
            "\u001b[1m392/392\u001b[0m \u001b[32m━━━━━━━━━━━━━━━━━━━━\u001b[0m\u001b[37m\u001b[0m \u001b[1m3s\u001b[0m 8ms/step - accuracy: 0.3011 - loss: 2.9544 - val_accuracy: 0.2926 - val_loss: 3.0118\n",
            "Epoch 23/100\n",
            "\u001b[1m392/392\u001b[0m \u001b[32m━━━━━━━━━━━━━━━━━━━━\u001b[0m\u001b[37m\u001b[0m \u001b[1m2s\u001b[0m 6ms/step - accuracy: 0.3067 - loss: 2.8993 - val_accuracy: 0.2958 - val_loss: 2.9987\n",
            "Epoch 24/100\n",
            "\u001b[1m392/392\u001b[0m \u001b[32m━━━━━━━━━━━━━━━━━━━━\u001b[0m\u001b[37m\u001b[0m \u001b[1m2s\u001b[0m 6ms/step - accuracy: 0.3196 - loss: 2.8756 - val_accuracy: 0.3137 - val_loss: 2.9157\n",
            "Epoch 25/100\n",
            "\u001b[1m392/392\u001b[0m \u001b[32m━━━━━━━━━━━━━━━━━━━━\u001b[0m\u001b[37m\u001b[0m \u001b[1m3s\u001b[0m 6ms/step - accuracy: 0.3276 - loss: 2.7922 - val_accuracy: 0.3259 - val_loss: 2.8699\n",
            "Epoch 26/100\n",
            "\u001b[1m392/392\u001b[0m \u001b[32m━━━━━━━━━━━━━━━━━━━━\u001b[0m\u001b[37m\u001b[0m \u001b[1m2s\u001b[0m 6ms/step - accuracy: 0.3303 - loss: 2.7704 - val_accuracy: 0.3195 - val_loss: 2.8464\n",
            "Epoch 27/100\n",
            "\u001b[1m392/392\u001b[0m \u001b[32m━━━━━━━━━━━━━━━━━━━━\u001b[0m\u001b[37m\u001b[0m \u001b[1m3s\u001b[0m 8ms/step - accuracy: 0.3435 - loss: 2.7078 - val_accuracy: 0.3323 - val_loss: 2.8291\n",
            "Epoch 28/100\n",
            "\u001b[1m392/392\u001b[0m \u001b[32m━━━━━━━━━━━━━━━━━━━━\u001b[0m\u001b[37m\u001b[0m \u001b[1m4s\u001b[0m 6ms/step - accuracy: 0.3519 - loss: 2.6674 - val_accuracy: 0.3457 - val_loss: 2.7216\n",
            "Epoch 29/100\n",
            "\u001b[1m392/392\u001b[0m \u001b[32m━━━━━━━━━━━━━━━━━━━━\u001b[0m\u001b[37m\u001b[0m \u001b[1m2s\u001b[0m 6ms/step - accuracy: 0.3538 - loss: 2.6419 - val_accuracy: 0.3460 - val_loss: 2.6961\n",
            "Epoch 30/100\n",
            "\u001b[1m392/392\u001b[0m \u001b[32m━━━━━━━━━━━━━━━━━━━━\u001b[0m\u001b[37m\u001b[0m \u001b[1m2s\u001b[0m 6ms/step - accuracy: 0.3742 - loss: 2.5810 - val_accuracy: 0.3591 - val_loss: 2.6548\n",
            "Epoch 31/100\n",
            "\u001b[1m392/392\u001b[0m \u001b[32m━━━━━━━━━━━━━━━━━━━━\u001b[0m\u001b[37m\u001b[0m \u001b[1m3s\u001b[0m 8ms/step - accuracy: 0.3909 - loss: 2.5039 - val_accuracy: 0.3764 - val_loss: 2.5699\n",
            "Epoch 32/100\n",
            "\u001b[1m392/392\u001b[0m \u001b[32m━━━━━━━━━━━━━━━━━━━━\u001b[0m\u001b[37m\u001b[0m \u001b[1m2s\u001b[0m 6ms/step - accuracy: 0.3828 - loss: 2.4729 - val_accuracy: 0.3687 - val_loss: 2.5890\n",
            "Epoch 33/100\n",
            "\u001b[1m392/392\u001b[0m \u001b[32m━━━━━━━━━━━━━━━━━━━━\u001b[0m\u001b[37m\u001b[0m \u001b[1m2s\u001b[0m 6ms/step - accuracy: 0.4042 - loss: 2.4298 - val_accuracy: 0.3857 - val_loss: 2.5340\n",
            "Epoch 34/100\n",
            "\u001b[1m392/392\u001b[0m \u001b[32m━━━━━━━━━━━━━━━━━━━━\u001b[0m\u001b[37m\u001b[0m \u001b[1m2s\u001b[0m 6ms/step - accuracy: 0.4074 - loss: 2.3860 - val_accuracy: 0.3873 - val_loss: 2.5260\n",
            "Epoch 35/100\n",
            "\u001b[1m392/392\u001b[0m \u001b[32m━━━━━━━━━━━━━━━━━━━━\u001b[0m\u001b[37m\u001b[0m \u001b[1m3s\u001b[0m 7ms/step - accuracy: 0.4115 - loss: 2.3632 - val_accuracy: 0.4020 - val_loss: 2.4420\n",
            "Epoch 36/100\n",
            "\u001b[1m392/392\u001b[0m \u001b[32m━━━━━━━━━━━━━━━━━━━━\u001b[0m\u001b[37m\u001b[0m \u001b[1m5s\u001b[0m 6ms/step - accuracy: 0.4275 - loss: 2.3042 - val_accuracy: 0.4090 - val_loss: 2.4075\n",
            "Epoch 37/100\n",
            "\u001b[1m392/392\u001b[0m \u001b[32m━━━━━━━━━━━━━━━━━━━━\u001b[0m\u001b[37m\u001b[0m \u001b[1m2s\u001b[0m 6ms/step - accuracy: 0.4226 - loss: 2.3154 - val_accuracy: 0.4269 - val_loss: 2.3754\n",
            "Epoch 38/100\n",
            "\u001b[1m392/392\u001b[0m \u001b[32m━━━━━━━━━━━━━━━━━━━━\u001b[0m\u001b[37m\u001b[0m \u001b[1m2s\u001b[0m 6ms/step - accuracy: 0.4385 - loss: 2.2303 - val_accuracy: 0.4304 - val_loss: 2.3392\n",
            "Epoch 39/100\n",
            "\u001b[1m392/392\u001b[0m \u001b[32m━━━━━━━━━━━━━━━━━━━━\u001b[0m\u001b[37m\u001b[0m \u001b[1m3s\u001b[0m 8ms/step - accuracy: 0.4436 - loss: 2.2078 - val_accuracy: 0.4253 - val_loss: 2.3577\n",
            "Epoch 40/100\n",
            "\u001b[1m392/392\u001b[0m \u001b[32m━━━━━━━━━━━━━━━━━━━━\u001b[0m\u001b[37m\u001b[0m \u001b[1m3s\u001b[0m 6ms/step - accuracy: 0.4462 - loss: 2.1647 - val_accuracy: 0.4237 - val_loss: 2.2861\n",
            "Epoch 41/100\n",
            "\u001b[1m392/392\u001b[0m \u001b[32m━━━━━━━━━━━━━━━━━━━━\u001b[0m\u001b[37m\u001b[0m \u001b[1m2s\u001b[0m 6ms/step - accuracy: 0.4546 - loss: 2.1582 - val_accuracy: 0.4551 - val_loss: 2.2734\n",
            "Epoch 42/100\n",
            "\u001b[1m392/392\u001b[0m \u001b[32m━━━━━━━━━━━━━━━━━━━━\u001b[0m\u001b[37m\u001b[0m \u001b[1m2s\u001b[0m 6ms/step - accuracy: 0.4654 - loss: 2.1168 - val_accuracy: 0.4557 - val_loss: 2.2059\n",
            "Epoch 43/100\n",
            "\u001b[1m392/392\u001b[0m \u001b[32m━━━━━━━━━━━━━━━━━━━━\u001b[0m\u001b[37m\u001b[0m \u001b[1m2s\u001b[0m 6ms/step - accuracy: 0.4725 - loss: 2.0796 - val_accuracy: 0.4647 - val_loss: 2.1859\n",
            "Epoch 44/100\n",
            "\u001b[1m392/392\u001b[0m \u001b[32m━━━━━━━━━━━━━━━━━━━━\u001b[0m\u001b[37m\u001b[0m \u001b[1m4s\u001b[0m 9ms/step - accuracy: 0.4732 - loss: 2.0642 - val_accuracy: 0.4816 - val_loss: 2.1565\n",
            "Epoch 45/100\n",
            "\u001b[1m392/392\u001b[0m \u001b[32m━━━━━━━━━━━━━━━━━━━━\u001b[0m\u001b[37m\u001b[0m \u001b[1m3s\u001b[0m 7ms/step - accuracy: 0.4913 - loss: 2.0014 - val_accuracy: 0.4653 - val_loss: 2.1690\n",
            "Epoch 46/100\n",
            "\u001b[1m392/392\u001b[0m \u001b[32m━━━━━━━━━━━━━━━━━━━━\u001b[0m\u001b[37m\u001b[0m \u001b[1m5s\u001b[0m 6ms/step - accuracy: 0.4822 - loss: 2.0137 - val_accuracy: 0.4688 - val_loss: 2.1887\n",
            "Epoch 47/100\n",
            "\u001b[1m392/392\u001b[0m \u001b[32m━━━━━━━━━━━━━━━━━━━━\u001b[0m\u001b[37m\u001b[0m \u001b[1m3s\u001b[0m 8ms/step - accuracy: 0.4925 - loss: 1.9903 - val_accuracy: 0.4778 - val_loss: 2.1056\n",
            "Epoch 48/100\n",
            "\u001b[1m392/392\u001b[0m \u001b[32m━━━━━━━━━━━━━━━━━━━━\u001b[0m\u001b[37m\u001b[0m \u001b[1m4s\u001b[0m 6ms/step - accuracy: 0.5001 - loss: 1.9544 - val_accuracy: 0.4986 - val_loss: 2.0292\n",
            "Epoch 49/100\n",
            "\u001b[1m392/392\u001b[0m \u001b[32m━━━━━━━━━━━━━━━━━━━━\u001b[0m\u001b[37m\u001b[0m \u001b[1m3s\u001b[0m 6ms/step - accuracy: 0.5137 - loss: 1.8928 - val_accuracy: 0.4883 - val_loss: 2.0549\n",
            "Epoch 50/100\n",
            "\u001b[1m392/392\u001b[0m \u001b[32m━━━━━━━━━━━━━━━━━━━━\u001b[0m\u001b[37m\u001b[0m \u001b[1m2s\u001b[0m 6ms/step - accuracy: 0.5156 - loss: 1.8806 - val_accuracy: 0.5088 - val_loss: 2.0219\n",
            "Epoch 51/100\n",
            "\u001b[1m392/392\u001b[0m \u001b[32m━━━━━━━━━━━━━━━━━━━━\u001b[0m\u001b[37m\u001b[0m \u001b[1m4s\u001b[0m 9ms/step - accuracy: 0.5151 - loss: 1.8847 - val_accuracy: 0.5126 - val_loss: 1.9694\n",
            "Epoch 52/100\n",
            "\u001b[1m392/392\u001b[0m \u001b[32m━━━━━━━━━━━━━━━━━━━━\u001b[0m\u001b[37m\u001b[0m \u001b[1m4s\u001b[0m 6ms/step - accuracy: 0.5217 - loss: 1.8424 - val_accuracy: 0.5181 - val_loss: 1.9526\n",
            "Epoch 53/100\n",
            "\u001b[1m392/392\u001b[0m \u001b[32m━━━━━━━━━━━━━━━━━━━━\u001b[0m\u001b[37m\u001b[0m \u001b[1m2s\u001b[0m 6ms/step - accuracy: 0.5392 - loss: 1.7764 - val_accuracy: 0.5248 - val_loss: 1.9177\n",
            "Epoch 54/100\n",
            "\u001b[1m392/392\u001b[0m \u001b[32m━━━━━━━━━━━━━━━━━━━━\u001b[0m\u001b[37m\u001b[0m \u001b[1m3s\u001b[0m 6ms/step - accuracy: 0.5423 - loss: 1.7839 - val_accuracy: 0.5299 - val_loss: 1.8854\n",
            "Epoch 55/100\n",
            "\u001b[1m392/392\u001b[0m \u001b[32m━━━━━━━━━━━━━━━━━━━━\u001b[0m\u001b[37m\u001b[0m \u001b[1m4s\u001b[0m 9ms/step - accuracy: 0.5433 - loss: 1.7683 - val_accuracy: 0.5347 - val_loss: 1.8646\n",
            "Epoch 56/100\n",
            "\u001b[1m392/392\u001b[0m \u001b[32m━━━━━━━━━━━━━━━━━━━━\u001b[0m\u001b[37m\u001b[0m \u001b[1m3s\u001b[0m 6ms/step - accuracy: 0.5447 - loss: 1.7707 - val_accuracy: 0.5286 - val_loss: 1.8964\n",
            "Epoch 57/100\n",
            "\u001b[1m392/392\u001b[0m \u001b[32m━━━━━━━━━━━━━━━━━━━━\u001b[0m\u001b[37m\u001b[0m \u001b[1m2s\u001b[0m 6ms/step - accuracy: 0.5473 - loss: 1.7438 - val_accuracy: 0.5497 - val_loss: 1.8156\n",
            "Epoch 58/100\n",
            "\u001b[1m392/392\u001b[0m \u001b[32m━━━━━━━━━━━━━━━━━━━━\u001b[0m\u001b[37m\u001b[0m \u001b[1m3s\u001b[0m 6ms/step - accuracy: 0.5644 - loss: 1.6973 - val_accuracy: 0.5437 - val_loss: 1.8241\n",
            "Epoch 59/100\n",
            "\u001b[1m392/392\u001b[0m \u001b[32m━━━━━━━━━━━━━━━━━━━━\u001b[0m\u001b[37m\u001b[0m \u001b[1m3s\u001b[0m 7ms/step - accuracy: 0.5634 - loss: 1.6563 - val_accuracy: 0.5475 - val_loss: 1.8283\n",
            "Epoch 60/100\n",
            "\u001b[1m392/392\u001b[0m \u001b[32m━━━━━━━━━━━━━━━━━━━━\u001b[0m\u001b[37m\u001b[0m \u001b[1m5s\u001b[0m 7ms/step - accuracy: 0.5691 - loss: 1.6569 - val_accuracy: 0.5357 - val_loss: 1.8294\n",
            "Epoch 61/100\n",
            "\u001b[1m392/392\u001b[0m \u001b[32m━━━━━━━━━━━━━━━━━━━━\u001b[0m\u001b[37m\u001b[0m \u001b[1m2s\u001b[0m 6ms/step - accuracy: 0.5596 - loss: 1.6664 - val_accuracy: 0.5494 - val_loss: 1.8104\n",
            "Epoch 62/100\n",
            "\u001b[1m392/392\u001b[0m \u001b[32m━━━━━━━━━━━━━━━━━━━━\u001b[0m\u001b[37m\u001b[0m \u001b[1m3s\u001b[0m 6ms/step - accuracy: 0.5740 - loss: 1.6143 - val_accuracy: 0.5625 - val_loss: 1.7231\n",
            "Epoch 63/100\n",
            "\u001b[1m392/392\u001b[0m \u001b[32m━━━━━━━━━━━━━━━━━━━━\u001b[0m\u001b[37m\u001b[0m \u001b[1m3s\u001b[0m 8ms/step - accuracy: 0.5787 - loss: 1.6251 - val_accuracy: 0.5504 - val_loss: 1.8190\n",
            "Epoch 64/100\n",
            "\u001b[1m392/392\u001b[0m \u001b[32m━━━━━━━━━━━━━━━━━━━━\u001b[0m\u001b[37m\u001b[0m \u001b[1m3s\u001b[0m 6ms/step - accuracy: 0.5753 - loss: 1.6116 - val_accuracy: 0.5721 - val_loss: 1.6977\n",
            "Epoch 65/100\n",
            "\u001b[1m392/392\u001b[0m \u001b[32m━━━━━━━━━━━━━━━━━━━━\u001b[0m\u001b[37m\u001b[0m \u001b[1m3s\u001b[0m 6ms/step - accuracy: 0.5777 - loss: 1.5786 - val_accuracy: 0.5788 - val_loss: 1.6892\n",
            "Epoch 66/100\n",
            "\u001b[1m392/392\u001b[0m \u001b[32m━━━━━━━━━━━━━━━━━━━━\u001b[0m\u001b[37m\u001b[0m \u001b[1m3s\u001b[0m 8ms/step - accuracy: 0.6095 - loss: 1.4861 - val_accuracy: 0.5785 - val_loss: 1.6963\n",
            "Epoch 67/100\n",
            "\u001b[1m392/392\u001b[0m \u001b[32m━━━━━━━━━━━━━━━━━━━━\u001b[0m\u001b[37m\u001b[0m \u001b[1m3s\u001b[0m 7ms/step - accuracy: 0.5893 - loss: 1.5443 - val_accuracy: 0.5923 - val_loss: 1.6451\n",
            "Epoch 68/100\n",
            "\u001b[1m392/392\u001b[0m \u001b[32m━━━━━━━━━━━━━━━━━━━━\u001b[0m\u001b[37m\u001b[0m \u001b[1m3s\u001b[0m 7ms/step - accuracy: 0.6011 - loss: 1.5189 - val_accuracy: 0.5580 - val_loss: 1.7298\n",
            "Epoch 69/100\n",
            "\u001b[1m392/392\u001b[0m \u001b[32m━━━━━━━━━━━━━━━━━━━━\u001b[0m\u001b[37m\u001b[0m \u001b[1m2s\u001b[0m 6ms/step - accuracy: 0.6036 - loss: 1.4841 - val_accuracy: 0.5823 - val_loss: 1.6284\n",
            "Epoch 70/100\n",
            "\u001b[1m392/392\u001b[0m \u001b[32m━━━━━━━━━━━━━━━━━━━━\u001b[0m\u001b[37m\u001b[0m \u001b[1m3s\u001b[0m 6ms/step - accuracy: 0.6093 - loss: 1.4706 - val_accuracy: 0.5849 - val_loss: 1.6466\n",
            "Epoch 71/100\n",
            "\u001b[1m392/392\u001b[0m \u001b[32m━━━━━━━━━━━━━━━━━━━━\u001b[0m\u001b[37m\u001b[0m \u001b[1m3s\u001b[0m 6ms/step - accuracy: 0.6115 - loss: 1.4807 - val_accuracy: 0.5964 - val_loss: 1.5976\n",
            "Epoch 72/100\n",
            "\u001b[1m392/392\u001b[0m \u001b[32m━━━━━━━━━━━━━━━━━━━━\u001b[0m\u001b[37m\u001b[0m \u001b[1m3s\u001b[0m 8ms/step - accuracy: 0.6013 - loss: 1.4940 - val_accuracy: 0.5791 - val_loss: 1.6590\n",
            "Epoch 73/100\n",
            "\u001b[1m392/392\u001b[0m \u001b[32m━━━━━━━━━━━━━━━━━━━━\u001b[0m\u001b[37m\u001b[0m \u001b[1m4s\u001b[0m 6ms/step - accuracy: 0.6106 - loss: 1.4632 - val_accuracy: 0.6076 - val_loss: 1.5464\n",
            "Epoch 74/100\n",
            "\u001b[1m392/392\u001b[0m \u001b[32m━━━━━━━━━━━━━━━━━━━━\u001b[0m\u001b[37m\u001b[0m \u001b[1m3s\u001b[0m 6ms/step - accuracy: 0.6089 - loss: 1.4440 - val_accuracy: 0.6127 - val_loss: 1.5478\n",
            "Epoch 75/100\n",
            "\u001b[1m392/392\u001b[0m \u001b[32m━━━━━━━━━━━━━━━━━━━━\u001b[0m\u001b[37m\u001b[0m \u001b[1m2s\u001b[0m 6ms/step - accuracy: 0.6323 - loss: 1.3964 - val_accuracy: 0.6102 - val_loss: 1.5326\n",
            "Epoch 76/100\n",
            "\u001b[1m392/392\u001b[0m \u001b[32m━━━━━━━━━━━━━━━━━━━━\u001b[0m\u001b[37m\u001b[0m \u001b[1m3s\u001b[0m 9ms/step - accuracy: 0.6407 - loss: 1.3528 - val_accuracy: 0.6118 - val_loss: 1.5387\n",
            "Epoch 77/100\n",
            "\u001b[1m392/392\u001b[0m \u001b[32m━━━━━━━━━━━━━━━━━━━━\u001b[0m\u001b[37m\u001b[0m \u001b[1m4s\u001b[0m 6ms/step - accuracy: 0.6418 - loss: 1.3474 - val_accuracy: 0.6233 - val_loss: 1.4945\n",
            "Epoch 78/100\n",
            "\u001b[1m392/392\u001b[0m \u001b[32m━━━━━━━━━━━━━━━━━━━━\u001b[0m\u001b[37m\u001b[0m \u001b[1m3s\u001b[0m 6ms/step - accuracy: 0.6357 - loss: 1.3652 - val_accuracy: 0.6121 - val_loss: 1.5147\n",
            "Epoch 79/100\n",
            "\u001b[1m392/392\u001b[0m \u001b[32m━━━━━━━━━━━━━━━━━━━━\u001b[0m\u001b[37m\u001b[0m \u001b[1m2s\u001b[0m 6ms/step - accuracy: 0.6363 - loss: 1.3611 - val_accuracy: 0.6185 - val_loss: 1.4955\n",
            "Epoch 80/100\n",
            "\u001b[1m392/392\u001b[0m \u001b[32m━━━━━━━━━━━━━━━━━━━━\u001b[0m\u001b[37m\u001b[0m \u001b[1m3s\u001b[0m 8ms/step - accuracy: 0.6500 - loss: 1.3073 - val_accuracy: 0.6319 - val_loss: 1.4644\n",
            "Epoch 81/100\n",
            "\u001b[1m392/392\u001b[0m \u001b[32m━━━━━━━━━━━━━━━━━━━━\u001b[0m\u001b[37m\u001b[0m \u001b[1m2s\u001b[0m 6ms/step - accuracy: 0.6469 - loss: 1.3053 - val_accuracy: 0.6194 - val_loss: 1.4899\n",
            "Epoch 82/100\n",
            "\u001b[1m392/392\u001b[0m \u001b[32m━━━━━━━━━━━━━━━━━━━━\u001b[0m\u001b[37m\u001b[0m \u001b[1m2s\u001b[0m 6ms/step - accuracy: 0.6342 - loss: 1.3413 - val_accuracy: 0.6310 - val_loss: 1.4521\n",
            "Epoch 83/100\n",
            "\u001b[1m392/392\u001b[0m \u001b[32m━━━━━━━━━━━━━━━━━━━━\u001b[0m\u001b[37m\u001b[0m \u001b[1m3s\u001b[0m 6ms/step - accuracy: 0.6424 - loss: 1.3067 - val_accuracy: 0.6367 - val_loss: 1.4175\n",
            "Epoch 84/100\n",
            "\u001b[1m392/392\u001b[0m \u001b[32m━━━━━━━━━━━━━━━━━━━━\u001b[0m\u001b[37m\u001b[0m \u001b[1m2s\u001b[0m 6ms/step - accuracy: 0.6607 - loss: 1.2611 - val_accuracy: 0.6265 - val_loss: 1.4631\n",
            "Epoch 85/100\n",
            "\u001b[1m392/392\u001b[0m \u001b[32m━━━━━━━━━━━━━━━━━━━━\u001b[0m\u001b[37m\u001b[0m \u001b[1m3s\u001b[0m 9ms/step - accuracy: 0.6574 - loss: 1.2660 - val_accuracy: 0.6489 - val_loss: 1.3867\n",
            "Epoch 86/100\n",
            "\u001b[1m392/392\u001b[0m \u001b[32m━━━━━━━━━━━━━━━━━━━━\u001b[0m\u001b[37m\u001b[0m \u001b[1m4s\u001b[0m 6ms/step - accuracy: 0.6684 - loss: 1.2373 - val_accuracy: 0.6441 - val_loss: 1.3856\n",
            "Epoch 87/100\n",
            "\u001b[1m392/392\u001b[0m \u001b[32m━━━━━━━━━━━━━━━━━━━━\u001b[0m\u001b[37m\u001b[0m \u001b[1m2s\u001b[0m 6ms/step - accuracy: 0.6591 - loss: 1.2450 - val_accuracy: 0.6310 - val_loss: 1.4221\n",
            "Epoch 88/100\n",
            "\u001b[1m392/392\u001b[0m \u001b[32m━━━━━━━━━━━━━━━━━━━━\u001b[0m\u001b[37m\u001b[0m \u001b[1m3s\u001b[0m 6ms/step - accuracy: 0.6481 - loss: 1.3114 - val_accuracy: 0.6434 - val_loss: 1.4031\n",
            "Epoch 89/100\n",
            "\u001b[1m392/392\u001b[0m \u001b[32m━━━━━━━━━━━━━━━━━━━━\u001b[0m\u001b[37m\u001b[0m \u001b[1m3s\u001b[0m 9ms/step - accuracy: 0.6714 - loss: 1.2066 - val_accuracy: 0.6601 - val_loss: 1.3541\n",
            "Epoch 90/100\n",
            "\u001b[1m392/392\u001b[0m \u001b[32m━━━━━━━━━━━━━━━━━━━━\u001b[0m\u001b[37m\u001b[0m \u001b[1m2s\u001b[0m 6ms/step - accuracy: 0.6701 - loss: 1.2181 - val_accuracy: 0.6533 - val_loss: 1.3855\n",
            "Epoch 91/100\n",
            "\u001b[1m392/392\u001b[0m \u001b[32m━━━━━━━━━━━━━━━━━━━━\u001b[0m\u001b[37m\u001b[0m \u001b[1m2s\u001b[0m 6ms/step - accuracy: 0.6752 - loss: 1.1919 - val_accuracy: 0.6501 - val_loss: 1.3810\n",
            "Epoch 92/100\n",
            "\u001b[1m392/392\u001b[0m \u001b[32m━━━━━━━━━━━━━━━━━━━━\u001b[0m\u001b[37m\u001b[0m \u001b[1m3s\u001b[0m 6ms/step - accuracy: 0.6635 - loss: 1.2248 - val_accuracy: 0.6482 - val_loss: 1.3902\n",
            "Epoch 93/100\n",
            "\u001b[1m392/392\u001b[0m \u001b[32m━━━━━━━━━━━━━━━━━━━━\u001b[0m\u001b[37m\u001b[0m \u001b[1m3s\u001b[0m 7ms/step - accuracy: 0.6695 - loss: 1.2141 - val_accuracy: 0.6652 - val_loss: 1.3099\n",
            "Epoch 94/100\n",
            "\u001b[1m392/392\u001b[0m \u001b[32m━━━━━━━━━━━━━━━━━━━━\u001b[0m\u001b[37m\u001b[0m \u001b[1m5s\u001b[0m 6ms/step - accuracy: 0.6667 - loss: 1.2123 - val_accuracy: 0.6460 - val_loss: 1.3844\n",
            "Epoch 95/100\n",
            "\u001b[1m392/392\u001b[0m \u001b[32m━━━━━━━━━━━━━━━━━━━━\u001b[0m\u001b[37m\u001b[0m \u001b[1m2s\u001b[0m 6ms/step - accuracy: 0.6879 - loss: 1.1462 - val_accuracy: 0.6633 - val_loss: 1.3293\n",
            "Epoch 96/100\n",
            "\u001b[1m392/392\u001b[0m \u001b[32m━━━━━━━━━━━━━━━━━━━━\u001b[0m\u001b[37m\u001b[0m \u001b[1m2s\u001b[0m 6ms/step - accuracy: 0.6921 - loss: 1.1248 - val_accuracy: 0.6597 - val_loss: 1.3611\n",
            "Epoch 97/100\n",
            "\u001b[1m392/392\u001b[0m \u001b[32m━━━━━━━━━━━━━━━━━━━━\u001b[0m\u001b[37m\u001b[0m \u001b[1m3s\u001b[0m 9ms/step - accuracy: 0.6874 - loss: 1.1346 - val_accuracy: 0.6687 - val_loss: 1.3218\n",
            "Epoch 98/100\n",
            "\u001b[1m392/392\u001b[0m \u001b[32m━━━━━━━━━━━━━━━━━━━━\u001b[0m\u001b[37m\u001b[0m \u001b[1m4s\u001b[0m 6ms/step - accuracy: 0.6866 - loss: 1.1354 - val_accuracy: 0.6575 - val_loss: 1.3452\n",
            "Epoch 99/100\n",
            "\u001b[1m392/392\u001b[0m \u001b[32m━━━━━━━━━━━━━━━━━━━━\u001b[0m\u001b[37m\u001b[0m \u001b[1m2s\u001b[0m 6ms/step - accuracy: 0.6697 - loss: 1.1812 - val_accuracy: 0.6738 - val_loss: 1.2968\n",
            "Epoch 100/100\n",
            "\u001b[1m392/392\u001b[0m \u001b[32m━━━━━━━━━━━━━━━━━━━━\u001b[0m\u001b[37m\u001b[0m \u001b[1m3s\u001b[0m 6ms/step - accuracy: 0.6880 - loss: 1.1283 - val_accuracy: 0.6639 - val_loss: 1.3042\n"
          ]
        }
      ],
      "source": [
        "\n",
        "# Training the LSTM model\n",
        "history = model.fit(X_train, y_train, epochs=100, batch_size=32, validation_data=(X_test, y_test))\n"
      ]
    },
    {
      "cell_type": "code",
      "execution_count": null,
      "metadata": {
        "colab": {
          "base_uri": "https://localhost:8080/"
        },
        "id": "D0uEksV2rOzm",
        "outputId": "894a936d-74af-4160-ff94-8324b31dc9b7"
      },
      "outputs": [
        {
          "output_type": "stream",
          "name": "stdout",
          "text": [
            "X_train shape: (12532, 10, 3)\n",
            "X_test shape: (3127, 10, 3)\n",
            "y_train shape: (12532,)\n",
            "y_test shape: (3127,)\n"
          ]
        }
      ],
      "source": [
        "print(f'X_train shape: {X_train.shape}')\n",
        "print(f'X_test shape: {X_test.shape}')\n",
        "print(f'y_train shape: {y_train.shape}')\n",
        "print(f'y_test shape: {y_test.shape}')\n"
      ]
    },
    {
      "cell_type": "code",
      "execution_count": null,
      "metadata": {
        "colab": {
          "base_uri": "https://localhost:8080/"
        },
        "id": "70BjkHrLsdhw",
        "outputId": "1a4896c7-3812-4bc5-b170-0498c8ce7a3f"
      },
      "outputs": [
        {
          "output_type": "stream",
          "name": "stdout",
          "text": [
            "y_train distribution: {0: 5, 1: 17, 2: 6, 3: 13, 4: 46, 5: 8, 6: 64, 7: 46, 8: 10, 9: 4, 10: 25, 11: 2, 12: 10, 13: 42, 14: 25, 15: 20, 16: 5, 17: 6, 18: 8, 19: 15, 20: 6, 21: 23, 22: 57, 23: 9, 24: 10, 25: 8, 26: 72, 27: 16, 28: 14, 29: 8, 30: 29, 31: 27, 32: 39, 33: 1, 34: 66, 35: 15, 36: 4, 37: 42, 38: 33, 39: 56, 40: 10, 41: 38, 42: 38, 43: 17, 44: 61, 45: 14, 46: 7, 47: 4, 48: 1, 49: 10, 50: 8, 51: 54, 52: 19, 53: 52, 54: 14, 55: 4, 56: 24, 57: 9, 58: 7, 59: 62, 60: 13, 61: 5, 62: 14, 63: 6, 64: 8, 65: 4, 66: 1, 67: 30, 68: 6, 69: 45, 70: 138, 71: 4, 72: 5, 73: 33, 74: 1, 75: 11, 76: 7, 77: 7, 78: 7, 79: 18, 80: 3, 81: 8, 82: 9, 83: 49, 84: 7, 85: 9, 86: 4, 87: 48, 88: 5, 89: 2, 90: 5, 91: 4, 92: 7, 93: 5, 94: 30, 95: 4, 96: 4, 97: 8, 98: 39, 99: 2, 100: 2, 101: 10, 102: 7, 103: 10, 104: 43, 105: 10, 106: 5, 107: 4, 108: 2, 109: 8, 110: 71, 111: 4, 112: 107, 113: 25, 114: 83, 115: 7, 116: 4, 117: 14, 118: 24, 119: 16, 120: 16, 121: 10, 122: 5, 123: 3, 124: 31, 125: 8, 126: 10, 127: 4, 128: 6, 129: 3, 130: 29, 131: 2, 132: 62, 133: 14, 134: 11, 135: 2, 136: 9, 137: 10, 138: 4, 139: 38, 140: 49, 141: 1, 142: 28, 143: 34, 144: 9, 145: 8, 146: 7, 147: 1, 148: 19, 149: 24, 150: 96, 151: 35, 152: 49, 153: 19, 154: 8, 155: 12, 156: 41, 157: 11, 158: 8, 159: 64, 160: 64, 161: 26, 162: 34, 163: 6, 164: 4, 165: 3, 166: 4, 167: 53, 168: 13, 169: 9, 170: 4, 171: 6, 172: 21, 173: 13, 174: 3, 175: 4, 176: 25, 177: 7, 178: 4, 179: 3, 180: 6, 181: 6, 182: 4, 183: 2, 184: 11, 185: 7, 186: 20, 187: 95, 188: 4, 189: 21, 190: 11, 191: 21, 192: 188, 193: 5, 194: 58, 195: 35, 196: 33, 197: 21, 198: 1, 199: 12, 200: 13, 201: 44, 202: 21, 203: 185, 204: 2, 205: 3, 206: 1, 207: 57, 208: 29, 209: 7, 210: 13, 211: 3, 212: 61, 213: 38, 214: 9, 215: 68, 216: 30, 217: 30, 218: 30, 219: 7, 220: 7, 221: 1, 222: 4, 223: 3, 224: 2, 225: 13, 226: 19, 227: 11, 228: 6, 229: 5, 230: 14, 231: 20, 232: 22, 233: 1, 234: 3, 235: 21, 236: 27, 237: 37, 238: 2, 239: 105, 240: 1, 241: 19, 242: 2, 243: 75, 244: 31, 245: 13, 246: 3, 247: 62, 248: 3, 249: 20, 250: 11, 251: 21, 252: 1, 253: 31, 254: 39, 255: 6, 256: 8, 257: 20, 258: 3, 259: 5, 260: 2, 261: 30, 262: 13, 263: 11, 264: 28, 265: 11, 266: 9, 267: 2, 268: 15, 269: 2, 270: 4, 271: 6, 272: 5, 273: 9, 274: 130, 275: 6, 276: 6, 277: 26, 278: 12, 279: 11, 280: 24, 281: 22, 282: 3, 283: 2, 284: 2, 285: 15, 286: 7, 287: 69, 288: 19, 289: 10, 290: 43, 291: 32, 292: 22, 293: 9, 294: 94, 295: 27, 296: 12, 297: 32, 298: 16, 299: 3, 300: 33, 301: 7, 302: 95, 303: 32, 304: 6, 305: 12, 306: 4, 307: 11, 308: 6, 309: 9, 310: 8, 311: 16, 312: 67, 313: 4, 314: 17, 315: 27, 316: 7, 317: 82, 318: 3, 319: 2, 320: 14, 321: 3, 322: 120, 323: 18, 324: 30, 325: 14, 326: 30, 327: 37, 328: 14, 329: 2, 330: 2, 331: 46, 332: 33, 333: 18, 334: 32, 335: 23, 336: 22, 337: 6, 338: 5, 339: 15, 340: 55, 341: 21, 342: 22, 343: 124, 344: 6, 345: 17, 346: 8, 347: 5, 348: 12, 349: 64, 350: 10, 351: 43, 352: 21, 353: 28, 354: 8, 355: 5, 356: 2, 357: 25, 358: 4, 359: 9, 360: 2, 361: 98, 362: 4, 363: 1, 364: 6, 365: 4, 366: 3, 367: 11, 368: 6, 369: 8, 370: 8, 371: 74, 372: 19, 373: 59, 374: 4, 375: 85, 376: 28, 377: 28, 378: 54, 379: 4, 380: 23, 381: 10, 382: 16, 383: 18, 384: 9, 385: 9, 386: 21, 387: 16, 388: 4, 389: 4, 390: 18, 391: 12, 392: 32, 393: 3, 394: 25, 395: 23, 396: 2, 397: 15, 398: 14, 399: 27, 400: 21, 401: 121, 402: 12, 403: 18, 404: 12, 405: 4, 406: 39, 407: 43, 408: 31, 409: 1, 410: 50, 411: 16, 412: 17, 413: 9, 414: 7, 415: 16, 416: 12, 417: 81, 418: 30, 419: 26, 420: 24, 421: 24, 422: 10, 423: 45, 424: 9, 425: 6, 426: 1, 427: 19, 428: 48, 429: 5, 430: 11, 431: 7, 432: 22, 433: 47, 434: 35, 435: 3, 436: 18, 437: 18, 438: 15, 439: 26, 440: 38, 441: 29, 442: 1, 443: 11, 444: 12, 445: 7, 446: 20, 447: 3, 448: 32, 449: 2, 450: 5, 451: 2, 452: 8, 453: 5, 454: 40, 455: 4, 456: 3, 457: 19, 458: 11, 459: 18, 460: 19, 461: 23, 462: 25, 463: 56, 464: 79, 465: 8, 466: 3, 467: 27, 468: 38, 469: 8, 470: 18, 471: 6, 472: 14, 473: 53, 474: 1, 475: 22, 476: 15, 477: 66, 478: 17, 479: 14, 480: 96, 481: 5, 482: 3, 483: 8, 484: 24, 485: 9, 486: 21, 487: 27, 488: 10, 489: 17, 490: 9, 491: 6, 492: 30, 493: 67, 494: 22, 495: 9, 496: 25, 497: 40, 498: 32, 499: 17, 500: 11, 501: 2, 502: 70, 503: 2, 504: 55, 505: 66, 506: 16, 507: 6, 508: 27, 509: 5, 510: 11, 511: 21, 512: 12, 513: 7, 514: 16, 515: 18, 516: 28, 517: 38, 518: 16, 519: 28, 520: 8, 521: 265, 522: 206, 523: 83, 524: 2, 525: 15, 526: 4, 527: 13, 528: 32, 529: 22, 530: 83, 531: 60, 532: 47, 533: 13, 534: 16, 535: 103, 536: 23, 537: 15, 538: 65, 539: 18, 540: 15, 541: 12, 542: 26, 543: 25, 544: 31, 545: 2, 546: 3, 547: 3, 548: 4, 549: 14, 550: 6, 551: 21, 552: 13, 553: 4, 554: 29, 555: 10, 556: 38, 557: 3, 558: 21, 559: 3, 560: 3}\n",
            "y_test distribution: {0: 2, 1: 5, 2: 3, 3: 4, 4: 11, 5: 3, 6: 19, 7: 9, 8: 1, 9: 3, 10: 9, 11: 1, 12: 3, 13: 10, 14: 11, 15: 5, 17: 2, 18: 3, 19: 4, 20: 2, 21: 1, 22: 12, 23: 3, 24: 2, 25: 1, 26: 10, 27: 3, 28: 5, 29: 5, 30: 5, 31: 6, 32: 7, 33: 1, 34: 19, 35: 2, 36: 1, 37: 12, 38: 7, 39: 14, 40: 3, 41: 9, 42: 8, 43: 4, 44: 12, 45: 3, 46: 2, 48: 2, 49: 3, 50: 2, 51: 11, 52: 4, 53: 13, 54: 2, 55: 1, 56: 6, 57: 5, 58: 3, 59: 15, 60: 4, 61: 1, 62: 3, 63: 4, 67: 7, 68: 4, 69: 2, 70: 25, 71: 2, 73: 5, 75: 2, 76: 7, 77: 1, 78: 2, 79: 7, 80: 3, 81: 2, 82: 1, 83: 11, 84: 3, 85: 2, 86: 2, 87: 9, 88: 3, 89: 1, 90: 2, 91: 2, 92: 3, 93: 2, 94: 4, 95: 1, 98: 12, 100: 3, 101: 2, 102: 5, 104: 14, 105: 3, 107: 1, 109: 3, 110: 13, 111: 4, 112: 18, 113: 7, 114: 22, 115: 2, 116: 2, 117: 3, 118: 6, 119: 7, 120: 4, 122: 4, 124: 5, 125: 4, 126: 1, 127: 1, 130: 3, 132: 14, 133: 2, 134: 4, 135: 1, 136: 6, 138: 2, 139: 6, 140: 16, 142: 8, 143: 15, 144: 2, 145: 2, 148: 5, 149: 7, 150: 30, 151: 5, 152: 5, 153: 7, 154: 2, 155: 2, 156: 11, 157: 2, 158: 2, 159: 15, 160: 25, 161: 8, 162: 10, 163: 4, 165: 1, 166: 1, 167: 13, 168: 3, 169: 5, 171: 2, 172: 8, 173: 3, 174: 1, 176: 11, 177: 2, 180: 1, 182: 3, 184: 6, 185: 1, 186: 3, 187: 16, 188: 1, 189: 6, 190: 2, 191: 5, 192: 42, 194: 17, 195: 9, 196: 11, 197: 8, 199: 3, 200: 6, 201: 12, 202: 1, 203: 59, 205: 1, 207: 7, 208: 9, 209: 2, 210: 4, 211: 3, 212: 15, 213: 8, 214: 2, 215: 18, 216: 6, 217: 10, 218: 15, 219: 2, 220: 4, 222: 3, 226: 3, 227: 1, 228: 3, 229: 1, 230: 2, 231: 6, 232: 4, 233: 1, 234: 1, 235: 8, 236: 4, 237: 12, 238: 1, 239: 17, 241: 2, 243: 19, 244: 8, 245: 1, 246: 1, 247: 12, 248: 4, 249: 5, 251: 1, 253: 3, 254: 18, 255: 3, 256: 2, 257: 1, 258: 1, 261: 9, 262: 4, 263: 2, 264: 8, 265: 2, 266: 4, 267: 1, 268: 8, 269: 1, 271: 1, 273: 1, 274: 23, 275: 4, 276: 2, 277: 2, 278: 2, 279: 2, 280: 6, 281: 8, 282: 3, 283: 1, 284: 1, 285: 10, 286: 5, 287: 13, 288: 4, 289: 2, 290: 12, 291: 9, 292: 5, 293: 2, 294: 23, 295: 14, 296: 3, 297: 11, 298: 1, 299: 3, 300: 6, 301: 1, 302: 29, 303: 10, 304: 1, 305: 1, 306: 4, 307: 3, 308: 2, 309: 3, 310: 1, 311: 4, 312: 13, 314: 3, 315: 9, 316: 1, 317: 22, 318: 2, 319: 1, 320: 1, 321: 3, 322: 24, 323: 4, 324: 1, 325: 3, 326: 2, 327: 8, 328: 5, 330: 1, 331: 12, 332: 10, 333: 4, 334: 6, 335: 9, 336: 4, 337: 3, 339: 5, 340: 26, 341: 10, 342: 5, 343: 27, 344: 2, 345: 5, 346: 2, 347: 2, 348: 5, 349: 21, 350: 1, 351: 12, 352: 4, 353: 8, 354: 1, 355: 1, 357: 9, 358: 1, 359: 2, 361: 24, 362: 1, 363: 2, 364: 2, 366: 1, 367: 2, 369: 1, 370: 3, 371: 13, 372: 1, 373: 30, 374: 2, 375: 20, 376: 12, 377: 2, 378: 20, 379: 2, 380: 4, 381: 2, 382: 5, 383: 2, 385: 1, 386: 7, 387: 7, 388: 1, 390: 5, 391: 1, 392: 8, 393: 1, 394: 10, 395: 5, 396: 2, 397: 1, 398: 3, 399: 5, 400: 8, 401: 20, 402: 3, 403: 5, 404: 6, 406: 9, 407: 6, 408: 6, 410: 15, 411: 1, 412: 10, 413: 2, 415: 6, 416: 2, 417: 23, 418: 8, 419: 7, 420: 10, 421: 5, 422: 1, 423: 12, 424: 1, 426: 1, 427: 5, 428: 15, 430: 2, 431: 3, 432: 11, 433: 13, 434: 8, 436: 5, 437: 3, 438: 4, 439: 6, 440: 10, 441: 7, 443: 1, 444: 3, 445: 1, 446: 3, 448: 11, 451: 1, 452: 4, 453: 1, 454: 9, 455: 4, 456: 1, 457: 2, 459: 4, 460: 4, 461: 6, 462: 5, 463: 13, 464: 14, 465: 3, 466: 2, 467: 11, 468: 18, 470: 5, 471: 1, 472: 4, 473: 8, 474: 1, 475: 4, 476: 2, 477: 19, 478: 1, 479: 1, 480: 17, 481: 6, 483: 1, 484: 4, 485: 6, 486: 5, 487: 2, 488: 1, 489: 10, 490: 3, 492: 1, 493: 21, 494: 1, 496: 7, 497: 7, 498: 10, 499: 3, 500: 1, 501: 1, 502: 13, 503: 2, 504: 14, 505: 7, 506: 3, 507: 3, 508: 7, 509: 1, 510: 1, 511: 7, 512: 5, 513: 2, 514: 3, 515: 3, 516: 8, 517: 13, 518: 6, 519: 4, 520: 6, 521: 77, 522: 43, 523: 11, 524: 1, 525: 4, 526: 1, 527: 5, 528: 13, 529: 3, 530: 23, 531: 10, 532: 9, 533: 3, 534: 3, 535: 23, 536: 8, 537: 4, 538: 20, 539: 8, 540: 5, 541: 4, 542: 11, 543: 10, 544: 9, 549: 4, 550: 6, 551: 6, 552: 3, 553: 3, 554: 7, 555: 2, 556: 11, 557: 1, 558: 3, 560: 3}\n"
          ]
        }
      ],
      "source": [
        "unique, counts = np.unique(y_train, return_counts=True)\n",
        "print(f'y_train distribution: {dict(zip(unique, counts))}')\n",
        "\n",
        "unique, counts = np.unique(y_test, return_counts=True)\n",
        "print(f'y_test distribution: {dict(zip(unique, counts))}')\n"
      ]
    },
    {
      "cell_type": "code",
      "execution_count": null,
      "metadata": {
        "colab": {
          "base_uri": "https://localhost:8080/"
        },
        "id": "lWOQGmJwsihq",
        "outputId": "3e8197a2-a614-40d1-b51e-4298d54ede33"
      },
      "outputs": [
        {
          "output_type": "stream",
          "name": "stderr",
          "text": [
            "/usr/local/lib/python3.10/dist-packages/keras/src/layers/rnn/rnn.py:204: UserWarning: Do not pass an `input_shape`/`input_dim` argument to a layer. When using Sequential models, prefer using an `Input(shape)` object as the first layer in the model instead.\n",
            "  super().__init__(**kwargs)\n"
          ]
        },
        {
          "output_type": "stream",
          "name": "stdout",
          "text": [
            "\u001b[1m392/392\u001b[0m \u001b[32m━━━━━━━━━━━━━━━━━━━━\u001b[0m\u001b[37m\u001b[0m \u001b[1m2s\u001b[0m 4ms/step\n",
            "\u001b[1m98/98\u001b[0m \u001b[32m━━━━━━━━━━━━━━━━━━━━\u001b[0m\u001b[37m\u001b[0m \u001b[1m0s\u001b[0m 3ms/step\n"
          ]
        }
      ],
      "source": [
        "feature_extractor = Sequential()\n",
        "\n",
        "feature_extractor.add(LSTM(50, return_sequences=True, input_shape=(X_train.shape[1], X_train.shape[2])))\n",
        "feature_extractor.add(Dropout(0.2))\n",
        "\n",
        "\n",
        "feature_extractor.add(LSTM(50, return_sequences=True))\n",
        "feature_extractor.add(Dropout(0.2))\n",
        "\n",
        "\n",
        "feature_extractor.add(LSTM(50, return_sequences=True))\n",
        "feature_extractor.add(Dropout(0.2))\n",
        "\n",
        "feature_extractor.add(LSTM(50, return_sequences=True))\n",
        "feature_extractor.add(Dropout(0.2))\n",
        "\n",
        "\n",
        "feature_extractor.add(LSTM(50, return_sequences=False))\n",
        "feature_extractor.add(Dropout(0.2))\n",
        "\n",
        "\n",
        "\n",
        "# Generating features using the feature extractor\n",
        "X_train_features = feature_extractor.predict(X_train)\n",
        "X_test_features = feature_extractor.predict(X_test)\n"
      ]
    },
    {
      "cell_type": "code",
      "execution_count": null,
      "metadata": {
        "id": "jyjnnsE3Bnz1",
        "colab": {
          "base_uri": "https://localhost:8080/",
          "height": 248
        },
        "outputId": "80993f05-eb2e-4dad-aec6-edff5c72d1bc"
      },
      "outputs": [
        {
          "output_type": "execute_result",
          "data": {
            "text/plain": [
              "XGBClassifier(base_score=None, booster=None, callbacks=None,\n",
              "              colsample_bylevel=None, colsample_bynode=None,\n",
              "              colsample_bytree=None, device=None, early_stopping_rounds=None,\n",
              "              enable_categorical=False, eval_metric=None, feature_types=None,\n",
              "              gamma=None, grow_policy=None, importance_type=None,\n",
              "              interaction_constraints=None, learning_rate=None, max_bin=None,\n",
              "              max_cat_threshold=None, max_cat_to_onehot=None,\n",
              "              max_delta_step=None, max_depth=None, max_leaves=None,\n",
              "              min_child_weight=None, missing=nan, monotone_constraints=None,\n",
              "              multi_strategy=None, n_estimators=None, n_jobs=None,\n",
              "              num_parallel_tree=None, objective='multi:softprob', ...)"
            ],
            "text/html": [
              "<style>#sk-container-id-1 {color: black;}#sk-container-id-1 pre{padding: 0;}#sk-container-id-1 div.sk-toggleable {background-color: white;}#sk-container-id-1 label.sk-toggleable__label {cursor: pointer;display: block;width: 100%;margin-bottom: 0;padding: 0.3em;box-sizing: border-box;text-align: center;}#sk-container-id-1 label.sk-toggleable__label-arrow:before {content: \"▸\";float: left;margin-right: 0.25em;color: #696969;}#sk-container-id-1 label.sk-toggleable__label-arrow:hover:before {color: black;}#sk-container-id-1 div.sk-estimator:hover label.sk-toggleable__label-arrow:before {color: black;}#sk-container-id-1 div.sk-toggleable__content {max-height: 0;max-width: 0;overflow: hidden;text-align: left;background-color: #f0f8ff;}#sk-container-id-1 div.sk-toggleable__content pre {margin: 0.2em;color: black;border-radius: 0.25em;background-color: #f0f8ff;}#sk-container-id-1 input.sk-toggleable__control:checked~div.sk-toggleable__content {max-height: 200px;max-width: 100%;overflow: auto;}#sk-container-id-1 input.sk-toggleable__control:checked~label.sk-toggleable__label-arrow:before {content: \"▾\";}#sk-container-id-1 div.sk-estimator input.sk-toggleable__control:checked~label.sk-toggleable__label {background-color: #d4ebff;}#sk-container-id-1 div.sk-label input.sk-toggleable__control:checked~label.sk-toggleable__label {background-color: #d4ebff;}#sk-container-id-1 input.sk-hidden--visually {border: 0;clip: rect(1px 1px 1px 1px);clip: rect(1px, 1px, 1px, 1px);height: 1px;margin: -1px;overflow: hidden;padding: 0;position: absolute;width: 1px;}#sk-container-id-1 div.sk-estimator {font-family: monospace;background-color: #f0f8ff;border: 1px dotted black;border-radius: 0.25em;box-sizing: border-box;margin-bottom: 0.5em;}#sk-container-id-1 div.sk-estimator:hover {background-color: #d4ebff;}#sk-container-id-1 div.sk-parallel-item::after {content: \"\";width: 100%;border-bottom: 1px solid gray;flex-grow: 1;}#sk-container-id-1 div.sk-label:hover label.sk-toggleable__label {background-color: #d4ebff;}#sk-container-id-1 div.sk-serial::before {content: \"\";position: absolute;border-left: 1px solid gray;box-sizing: border-box;top: 0;bottom: 0;left: 50%;z-index: 0;}#sk-container-id-1 div.sk-serial {display: flex;flex-direction: column;align-items: center;background-color: white;padding-right: 0.2em;padding-left: 0.2em;position: relative;}#sk-container-id-1 div.sk-item {position: relative;z-index: 1;}#sk-container-id-1 div.sk-parallel {display: flex;align-items: stretch;justify-content: center;background-color: white;position: relative;}#sk-container-id-1 div.sk-item::before, #sk-container-id-1 div.sk-parallel-item::before {content: \"\";position: absolute;border-left: 1px solid gray;box-sizing: border-box;top: 0;bottom: 0;left: 50%;z-index: -1;}#sk-container-id-1 div.sk-parallel-item {display: flex;flex-direction: column;z-index: 1;position: relative;background-color: white;}#sk-container-id-1 div.sk-parallel-item:first-child::after {align-self: flex-end;width: 50%;}#sk-container-id-1 div.sk-parallel-item:last-child::after {align-self: flex-start;width: 50%;}#sk-container-id-1 div.sk-parallel-item:only-child::after {width: 0;}#sk-container-id-1 div.sk-dashed-wrapped {border: 1px dashed gray;margin: 0 0.4em 0.5em 0.4em;box-sizing: border-box;padding-bottom: 0.4em;background-color: white;}#sk-container-id-1 div.sk-label label {font-family: monospace;font-weight: bold;display: inline-block;line-height: 1.2em;}#sk-container-id-1 div.sk-label-container {text-align: center;}#sk-container-id-1 div.sk-container {/* jupyter's `normalize.less` sets `[hidden] { display: none; }` but bootstrap.min.css set `[hidden] { display: none !important; }` so we also need the `!important` here to be able to override the default hidden behavior on the sphinx rendered scikit-learn.org. See: https://github.com/scikit-learn/scikit-learn/issues/21755 */display: inline-block !important;position: relative;}#sk-container-id-1 div.sk-text-repr-fallback {display: none;}</style><div id=\"sk-container-id-1\" class=\"sk-top-container\"><div class=\"sk-text-repr-fallback\"><pre>XGBClassifier(base_score=None, booster=None, callbacks=None,\n",
              "              colsample_bylevel=None, colsample_bynode=None,\n",
              "              colsample_bytree=None, device=None, early_stopping_rounds=None,\n",
              "              enable_categorical=False, eval_metric=None, feature_types=None,\n",
              "              gamma=None, grow_policy=None, importance_type=None,\n",
              "              interaction_constraints=None, learning_rate=None, max_bin=None,\n",
              "              max_cat_threshold=None, max_cat_to_onehot=None,\n",
              "              max_delta_step=None, max_depth=None, max_leaves=None,\n",
              "              min_child_weight=None, missing=nan, monotone_constraints=None,\n",
              "              multi_strategy=None, n_estimators=None, n_jobs=None,\n",
              "              num_parallel_tree=None, objective=&#x27;multi:softprob&#x27;, ...)</pre><b>In a Jupyter environment, please rerun this cell to show the HTML representation or trust the notebook. <br />On GitHub, the HTML representation is unable to render, please try loading this page with nbviewer.org.</b></div><div class=\"sk-container\" hidden><div class=\"sk-item\"><div class=\"sk-estimator sk-toggleable\"><input class=\"sk-toggleable__control sk-hidden--visually\" id=\"sk-estimator-id-1\" type=\"checkbox\" checked><label for=\"sk-estimator-id-1\" class=\"sk-toggleable__label sk-toggleable__label-arrow\">XGBClassifier</label><div class=\"sk-toggleable__content\"><pre>XGBClassifier(base_score=None, booster=None, callbacks=None,\n",
              "              colsample_bylevel=None, colsample_bynode=None,\n",
              "              colsample_bytree=None, device=None, early_stopping_rounds=None,\n",
              "              enable_categorical=False, eval_metric=None, feature_types=None,\n",
              "              gamma=None, grow_policy=None, importance_type=None,\n",
              "              interaction_constraints=None, learning_rate=None, max_bin=None,\n",
              "              max_cat_threshold=None, max_cat_to_onehot=None,\n",
              "              max_delta_step=None, max_depth=None, max_leaves=None,\n",
              "              min_child_weight=None, missing=nan, monotone_constraints=None,\n",
              "              multi_strategy=None, n_estimators=None, n_jobs=None,\n",
              "              num_parallel_tree=None, objective=&#x27;multi:softprob&#x27;, ...)</pre></div></div></div></div></div>"
            ]
          },
          "metadata": {},
          "execution_count": 31
        }
      ],
      "source": [
        "xgb_model = xgb.XGBClassifier()\n",
        "xgb_model.fit(X_train_features, y_train)\n",
        "\n"
      ]
    },
    {
      "cell_type": "code",
      "execution_count": null,
      "metadata": {
        "id": "XywLqARdCIlW",
        "colab": {
          "base_uri": "https://localhost:8080/"
        },
        "outputId": "246c7ed8-8182-42af-9b39-8a7f78785f85"
      },
      "outputs": [
        {
          "output_type": "stream",
          "name": "stdout",
          "text": [
            "Accuracy: 0.12056283978253918\n",
            "RMSE: 216.439591798694\n"
          ]
        }
      ],
      "source": [
        "import numpy as np\n",
        "from sklearn.metrics import mean_squared_error, accuracy_score\n",
        "\n",
        "\n",
        "y_pred = xgb_model.predict(X_test_features)\n",
        "accuracy = accuracy_score(y_test, y_pred)\n",
        "rmse = np.sqrt(mean_squared_error(y_test, y_pred))\n",
        "\n",
        "print(f\"Accuracy: {accuracy}\")\n",
        "print(f\"RMSE: {rmse}\")\n",
        "\n"
      ]
    },
    {
      "cell_type": "code",
      "execution_count": null,
      "metadata": {
        "id": "ogALVmFYCK9g",
        "colab": {
          "base_uri": "https://localhost:8080/",
          "height": 433
        },
        "outputId": "090c3210-82ab-4d84-b8ad-15d476af1094"
      },
      "outputs": [
        {
          "output_type": "display_data",
          "data": {
            "text/plain": [
              "<Figure size 640x480 with 1 Axes>"
            ],
            "image/png": "[encoded data removed]"
          },
          "metadata": {}
        }
      ],
      "source": [
        "plt.plot(history.history['loss'], label='train')\n",
        "plt.plot(history.history['val_loss'], label='test')\n",
        "plt.legend()\n",
        "plt.show()\n"
      ]
    },
    {
      "cell_type": "code",
      "execution_count": null,
      "metadata": {
        "id": "zRtgWKOsCQKu",
        "colab": {
          "base_uri": "https://localhost:8080/",
          "height": 472
        },
        "outputId": "d8837975-19e7-4daa-dcb8-06b412cbea19"
      },
      "outputs": [
        {
          "output_type": "display_data",
          "data": {
            "text/plain": [
              "<Figure size 640x480 with 1 Axes>"
            ],
            "image/png": "[encoded data removed]"
          },
          "metadata": {}
        }
      ],
      "source": [
        "xgb.plot_importance(xgb_model)\n",
        "plt.show()\n"
      ]
    },
    {
      "cell_type": "code",
      "execution_count": null,
      "metadata": {
        "id": "2k6Pub7HCSw5",
        "colab": {
          "base_uri": "https://localhost:8080/"
        },
        "outputId": "5f73f419-b25c-43ec-87ab-8a52949e13a2"
      },
      "outputs": [
        {
          "output_type": "stream",
          "name": "stderr",
          "text": [
            "WARNING:absl:You are saving your model as an HDF5 file via `model.save()` or `keras.saving.save_model(model)`. This file format is considered legacy. We recommend using instead the native Keras format, e.g. `model.save('my_model.keras')` or `keras.saving.save_model(model, 'my_model.keras')`. \n"
          ]
        }
      ],
      "source": [
        "model.save('lstm_model.h5')\n"
      ]
    },
    {
      "cell_type": "code",
      "execution_count": null,
      "metadata": {
        "id": "jVRMOiQ1CXT9"
      },
      "outputs": [],
      "source": [
        "xgb_model.save_model('xgb_model.json')\n"
      ]
    },
    {
      "cell_type": "code",
      "source": [
        "import numpy as np\n",
        "import pandas as pd\n",
        "from sklearn.metrics import accuracy_score, confusion_matrix, ConfusionMatrixDisplay\n",
        "\n",
        "# Generating features for XGBoost model from LSTM model\n",
        "X_test_features = feature_extractor.predict(X_test)\n",
        "\n",
        "# Get predictions from XGBoost\n",
        "y_pred = xgb_model.predict(X_test_features)\n",
        "\n",
        "# Decode predictions and true labels\n",
        "y_test_decoded = le.inverse_transform(y_test)\n",
        "y_pred_decoded = le.inverse_transform(y_pred)\n"
      ],
      "metadata": {
        "colab": {
          "base_uri": "https://localhost:8080/"
        },
        "id": "2uCqFNBNg6WQ",
        "outputId": "a660f10e-79e6-47b5-8af8-d5916117f475"
      },
      "execution_count": null,
      "outputs": [
        {
          "output_type": "stream",
          "name": "stdout",
          "text": [
            "\u001b[1m98/98\u001b[0m \u001b[32m━━━━━━━━━━━━━━━━━━━━\u001b[0m\u001b[37m\u001b[0m \u001b[1m0s\u001b[0m 5ms/step\n"
          ]
        }
      ]
    },
    {
      "cell_type": "code",
      "source": [
        "\n",
        "behavior_labels = le.inverse_transform(np.arange(len(le.classes_)))\n",
        "behavior_label_map = dict(enumerate(behavior_labels))\n",
        "\n",
        "customer_ids = le_customer.inverse_transform(np.arange(len(le_customer.classes_)))\n",
        "customer_id_map = dict(enumerate(customer_ids))\n"
      ],
      "metadata": {
        "id": "I2SoGB6sJVIu"
      },
      "execution_count": null,
      "outputs": []
    },
    {
      "cell_type": "code",
      "source": [
        "import matplotlib.pyplot as plt\n",
        "\n",
        "# Plotting actual vs. predicted values\n",
        "fig, ax = plt.subplots(figsize=(10, 6))\n",
        "\n",
        "for i, index in enumerate(sample_indices):\n",
        "    ax.bar(i - 0.2, y_test_decoded[index], width=0.4, label='Actual', color='blue')\n",
        "    ax.bar(i + 0.2, y_pred_decoded[index], width=0.4, label='Predicted', color='red')\n",
        "\n",
        "ax.set_xticks(range(len(sample_indices)))\n",
        "ax.set_xticklabels([f'Sample {i+1}' for i in range(len(sample_indices))])\n",
        "ax.set_ylabel('Customer Behavior')\n",
        "ax.set_title('Actual vs. Predicted Behavior')\n",
        "ax.legend()\n",
        "\n",
        "plt.show()\n"
      ],
      "metadata": {
        "colab": {
          "base_uri": "https://localhost:8080/",
          "height": 545
        },
        "id": "ax5N0Ngij0Cb",
        "outputId": "2696779f-d4a9-485e-f98d-5a63538bd518"
      },
      "execution_count": null,
      "outputs": [
        {
          "output_type": "display_data",
          "data": {
            "text/plain": [
              "<Figure size 1000x600 with 1 Axes>"
            ],
            "image/png": "[encoded data removed]"
          },
          "metadata": {}
        }
      ]
    },
    {
      "cell_type": "code",
      "source": [
        "from tensorflow.keras.models import load_model\n",
        "\n",
        "# Loading the models\n",
        "lstm_model = load_model('lstm_model.h5')\n",
        "xgb_model = xgb.XGBClassifier()\n",
        "xgb_model.load_model('xgb_model.json')\n",
        "\n",
        "# Function to predict behavior\n",
        "def predict_customer_behavior(customer_data):\n",
        "    # Preprocess customer_data similarly to how X_test was processed\n",
        "    # Generate features using the LSTM model\n",
        "    features = feature_extractor.predict(customer_data)\n",
        "\n",
        "    # Prediction using XGBoost model\n",
        "    prediction = xgb_model.predict(features)\n",
        "\n",
        "    return le.inverse_transform(prediction)\n",
        "\n",
        "\n"
      ],
      "metadata": {
        "colab": {
          "base_uri": "https://localhost:8080/"
        },
        "id": "SPoALjp9kMx7",
        "outputId": "3d7f4324-9c58-4242-f63f-df1e6691f108"
      },
      "execution_count": null,
      "outputs": [
        {
          "output_type": "stream",
          "name": "stderr",
          "text": [
            "WARNING:absl:Compiled the loaded model, but the compiled metrics have yet to be built. `model.compile_metrics` will be empty until you train or evaluate the model.\n"
          ]
        }
      ]
    },
    {
      "cell_type": "code",
      "source": [
        "# mapping from encoded labels to original labels\n",
        "label_mapping = dict(zip(le.transform(le.classes_), le.classes_))\n"
      ],
      "metadata": {
        "id": "gmvglb1HRXNk"
      },
      "execution_count": null,
      "outputs": []
    },
    {
      "cell_type": "code",
      "source": [
        "\n",
        "# Inverse transforming decoded labels to original Customer IDs\n",
        "original_customer_ids = le_customer.inverse_transform(y_test_decoded)\n",
        "predicted_customer_ids = le_customer.inverse_transform(y_pred_decoded)\n",
        "\n",
        "sample_indices = np.random.choice(len(X_test), size=5, replace=False)\n",
        "\n",
        "# DIsplay in dataframe\n",
        "sample_data = pd.DataFrame({\n",
        "    'CustomerID': original_customer_ids[sample_indices],    # Original Customer IDs\n",
        "    'Actual Behavior': original_customer_ids[sample_indices],  # Original Customer IDs as actual labels\n",
        "    'Predicted Behavior': predicted_customer_ids[sample_indices]  # Predicted Customer IDs\n",
        "})\n",
        "\n",
        "print(sample_data)\n",
        "\n",
        "\n"
      ],
      "metadata": {
        "colab": {
          "base_uri": "https://localhost:8080/"
        },
        "id": "cPJqNLtKY87x",
        "outputId": "43b9c575-fdcd-45b8-e793-bdd76083c331"
      },
      "execution_count": null,
      "outputs": [
        {
          "output_type": "stream",
          "name": "stdout",
          "text": [
            "   CustomerID  Actual Behavior  Predicted Behavior\n",
            "0     13410.0          13410.0             13410.0\n",
            "1     16104.0          16104.0             14134.0\n",
            "2     15983.0          15983.0             16168.0\n",
            "3     13825.0          13825.0             13825.0\n",
            "4     13668.0          13668.0             13114.0\n"
          ]
        }
      ]
    },
    {
      "cell_type": "code",
      "source": [
        "example_data = np.array([85123, 6, 15.30])\n",
        "predicted_behavior = predict_customer_behavior(example_data)\n",
        "print('Behaviour is most like behaviour of Customer with Customer ID:', predicted_customer_ids[predicted_behavior])\n"
      ],
      "metadata": {
        "colab": {
          "base_uri": "https://localhost:8080/"
        },
        "id": "0oOVS7BfdwCd",
        "outputId": "47702cc8-cc46-49e8-d365-d1483d65c980"
      },
      "execution_count": null,
      "outputs": [
        {
          "output_type": "stream",
          "name": "stdout",
          "text": [
            "Predicted behaviour is most like behaviour of Customer with Customer ID: [16321.]\n"
          ]
        }
      ]
    }
  ],
  "metadata": {
    "accelerator": "GPU",
    "colab": {
      "gpuType": "T4",
      "provenance": []
    },
    "kernelspec": {
      "display_name": "Python 3",
      "name": "python3"
    },
    "language_info": {
      "name": "python"
    }
  },
  "nbformat": 4,
  "nbformat_minor": 0
}